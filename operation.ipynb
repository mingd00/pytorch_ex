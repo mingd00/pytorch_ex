{
 "cells": [
  {
   "cell_type": "code",
   "execution_count": 1,
   "metadata": {},
   "outputs": [],
   "source": [
    "import torch\n",
    "import math"
   ]
  },
  {
   "cell_type": "code",
   "execution_count": 3,
   "metadata": {},
   "outputs": [
    {
     "name": "stdout",
     "output_type": "stream",
     "text": [
      "tensor([[-0.7612,  0.3120]])\n",
      "tensor([[0.7612, 0.3120]])\n",
      "tensor([[-0., 1.]])\n",
      "tensor([[-1.,  0.]])\n",
      "tensor([[-0.5000,  0.3120]])\n"
     ]
    }
   ],
   "source": [
    "a = torch.rand(1, 2) * 2 - 1\n",
    "print(a)\n",
    "print(torch.abs(a))\n",
    "print(torch.ceil(a))\n",
    "print(torch.floor(a))\n",
    "print(torch.clamp(a, -0.5, 0.5))"
   ]
  },
  {
   "cell_type": "code",
   "execution_count": 4,
   "metadata": {},
   "outputs": [
    {
     "name": "stdout",
     "output_type": "stream",
     "text": [
      "tensor([[-0.7612,  0.3120]])\n",
      "tensor(-0.7612)\n",
      "tensor(0.3120)\n",
      "tensor(-0.2246)\n",
      "tensor(0.7589)\n",
      "tensor(-0.2375)\n",
      "tensor([1, 2, 3])\n"
     ]
    }
   ],
   "source": [
    "print(a)\n",
    "print(torch.min(a))\n",
    "print(torch.max(a))\n",
    "print(torch.mean(a))\n",
    "print(torch.std(a))\n",
    "print(torch.prod(a))\n",
    "print(torch.unique(torch.tensor([1,2,3,1,2,3])))"
   ]
  },
  {
   "cell_type": "code",
   "execution_count": 8,
   "metadata": {},
   "outputs": [
    {
     "name": "stdout",
     "output_type": "stream",
     "text": [
      "tensor([[0.5057, 0.5229],\n",
      "        [0.2530, 0.9198]])\n",
      "torch.return_types.max(\n",
      "values=tensor([0.5057, 0.9198]),\n",
      "indices=tensor([0, 1]))\n",
      "torch.return_types.max(\n",
      "values=tensor([0.5229, 0.9198]),\n",
      "indices=tensor([1, 1]))\n",
      "torch.return_types.min(\n",
      "values=tensor([0.2530, 0.5229]),\n",
      "indices=tensor([1, 0]))\n",
      "torch.return_types.min(\n",
      "values=tensor([0.5057, 0.2530]),\n",
      "indices=tensor([0, 0]))\n"
     ]
    }
   ],
   "source": [
    "# argmax : 최대값을 가진 인덱스\n",
    "# argmin : 최소값을 가진 인덱스\n",
    "\n",
    "x = torch.rand(2,2)\n",
    "print(x)\n",
    "print(x.max(dim=0))\n",
    "print(x.max(dim=1))\n",
    "print(x.min(dim=0))\n",
    "print(x.min(dim=1))\n",
    "\n"
   ]
  },
  {
   "cell_type": "code",
   "execution_count": 9,
   "metadata": {},
   "outputs": [
    {
     "name": "stdout",
     "output_type": "stream",
     "text": [
      "tensor([[0.7198, 0.5949],\n",
      "        [0.6429, 0.9088]])\n",
      "tensor([[0.5913, 0.9025],\n",
      "        [0.5399, 0.1689]])\n"
     ]
    }
   ],
   "source": [
    "x = torch.rand(2, 2)\n",
    "print(x)\n",
    "y = torch.rand(2, 2)\n",
    "print(y)"
   ]
  },
  {
   "cell_type": "code",
   "execution_count": 15,
   "metadata": {},
   "outputs": [
    {
     "name": "stdout",
     "output_type": "stream",
     "text": [
      "tensor([[1.3112, 1.4974],\n",
      "        [1.1828, 1.0777]])\n",
      "tensor([[ 0.1285, -0.3076],\n",
      "        [ 0.1030,  0.7399]])\n",
      "tensor([[1.3112, 1.4974],\n",
      "        [1.1828, 1.0777]])\n",
      "tensor([[ 0.1285, -0.3076],\n",
      "        [ 0.1030,  0.7399]])\n"
     ]
    }
   ],
   "source": [
    "print(x + y)\n",
    "print(x - y)\n",
    "print(torch.add(x, y))\n",
    "print(torch.sub(x, y))"
   ]
  },
  {
   "cell_type": "code",
   "execution_count": 11,
   "metadata": {},
   "outputs": [
    {
     "name": "stdout",
     "output_type": "stream",
     "text": [
      "tensor([[1.3112, 1.4974],\n",
      "        [1.1828, 1.0777]])\n"
     ]
    },
    {
     "name": "stderr",
     "output_type": "stream",
     "text": [
      "C:\\Users\\emily\\AppData\\Local\\Temp\\ipykernel_20132\\2982148854.py:2: UserWarning: An output with one or more elements was resized since it had shape [2, 4], which does not match the required output shape [2, 2]. This behavior is deprecated, and in a future PyTorch release outputs will not be resized unless they have zero elements. You can explicitly reuse an out tensor t by resizing it, inplace, to zero elements with t.resize_(0). (Triggered internally at C:\\actions-runner\\_work\\pytorch\\pytorch\\builder\\windows\\pytorch\\aten\\src\\ATen\\native\\Resize.cpp:35.)\n",
      "  torch.add(x,y, out=result)\n"
     ]
    }
   ],
   "source": [
    "result = torch.empty(2,4)\n",
    "torch.add(x,y, out=result)\n",
    "print(result)"
   ]
  },
  {
   "cell_type": "markdown",
   "metadata": {},
   "source": [
    "in-place 방식\n",
    "- 텐서의 값을 변경하는 연산뒤에는 _\"가 붙음\n",
    "- x.copy_(y), x_t_()"
   ]
  },
  {
   "cell_type": "code",
   "execution_count": 13,
   "metadata": {},
   "outputs": [
    {
     "name": "stdout",
     "output_type": "stream",
     "text": [
      "tensor([[0.7198, 0.5949],\n",
      "        [0.6429, 0.9088]])\n",
      "tensor([[0.5913, 0.9025],\n",
      "        [0.5399, 0.1689]])\n",
      "tensor([[1.3112, 1.4974],\n",
      "        [1.1828, 1.0777]])\n"
     ]
    }
   ],
   "source": [
    "print(x)\n",
    "print(y)\n",
    "y.add_(x)\n",
    "print(y)"
   ]
  },
  {
   "cell_type": "code",
   "execution_count": 14,
   "metadata": {},
   "outputs": [
    {
     "name": "stdout",
     "output_type": "stream",
     "text": [
      "tensor([[0.7198, 0.5949],\n",
      "        [0.6429, 0.9088]])\n",
      "tensor([[1.3112, 1.4974],\n",
      "        [1.1828, 1.0777]])\n",
      "tensor([[0.5913, 0.9025],\n",
      "        [0.5399, 0.1689]])\n"
     ]
    }
   ],
   "source": [
    "print(x)\n",
    "print(y)\n",
    "y.sub_(x)\n",
    "print(y)"
   ]
  },
  {
   "cell_type": "code",
   "execution_count": 16,
   "metadata": {},
   "outputs": [
    {
     "name": "stdout",
     "output_type": "stream",
     "text": [
      "tensor([[0.4257, 0.5369],\n",
      "        [0.3471, 0.1535]])\n",
      "tensor([[0.4257, 0.5369],\n",
      "        [0.3471, 0.1535]])\n",
      "tensor([[0.4257, 0.5369],\n",
      "        [0.3471, 0.1535]])\n",
      "tensor([[1.2173, 0.6591],\n",
      "        [1.1907, 5.3811]])\n",
      "tensor([[1.2173, 0.6591],\n",
      "        [1.1907, 5.3811]])\n",
      "tensor([[1.2173, 0.6591],\n",
      "        [1.1907, 5.3811]])\n"
     ]
    }
   ],
   "source": [
    "print(x * y)\n",
    "print(torch.mul(x, y))\n",
    "print(x.mul(y))\n",
    "\n",
    "print(x / y)\n",
    "print(torch.div(x, y))\n",
    "print(x.div(y))"
   ]
  },
  {
   "cell_type": "markdown",
   "metadata": {},
   "source": [
    "torch.mm : 내적 dot roduct"
   ]
  },
  {
   "cell_type": "code",
   "execution_count": 18,
   "metadata": {},
   "outputs": [
    {
     "name": "stdout",
     "output_type": "stream",
     "text": [
      "tensor([[0.7198, 0.5949],\n",
      "        [0.6429, 0.9088]])\n",
      "tensor([[0.5913, 0.9025],\n",
      "        [0.5399, 0.1689]])\n",
      "tensor([[0.7468, 0.7501],\n",
      "        [0.8708, 0.7337]])\n",
      "tensor([[0.7468, 0.7501],\n",
      "        [0.8708, 0.7337]])\n",
      "torch.return_types.svd(\n",
      "U=tensor([[-0.6808, -0.7325],\n",
      "        [-0.7325,  0.6808]]),\n",
      "S=tensor([1.5532, 0.0678]),\n",
      "V=tensor([[-0.7380,  0.6748],\n",
      "        [-0.6748, -0.7380]]))\n"
     ]
    }
   ],
   "source": [
    "print(x)\n",
    "print(y)\n",
    "print(torch.matmul(x, y))\n",
    "z = torch.mm(x, y)\n",
    "print(z)\n",
    "#분해\n",
    "print(torch.svd(z))"
   ]
  }
 ],
 "metadata": {
  "kernelspec": {
   "display_name": "base",
   "language": "python",
   "name": "python3"
  },
  "language_info": {
   "codemirror_mode": {
    "name": "ipython",
    "version": 3
   },
   "file_extension": ".py",
   "mimetype": "text/x-python",
   "name": "python",
   "nbconvert_exporter": "python",
   "pygments_lexer": "ipython3",
   "version": "3.9.16"
  }
 },
 "nbformat": 4,
 "nbformat_minor": 2
}
